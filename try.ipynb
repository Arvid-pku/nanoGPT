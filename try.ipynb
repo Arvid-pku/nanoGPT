{
 "cells": [
  {
   "cell_type": "code",
   "execution_count": 9,
   "metadata": {},
   "outputs": [
    {
     "name": "stdout",
     "output_type": "stream",
     "text": [
      "[1212, 481, 1057, 329, 546, 604, 1528, 1262, 9485, 15884, 354, 4307, 6169, 6060, 42945, 357, 35, 6322, 8, 764]\n",
      " .)DPD ( Parallel Dataributed DistchTor Py using days 4 about for run willThis\n"
     ]
    }
   ],
   "source": [
    "import tiktoken\n",
    "enc = tiktoken.get_encoding(\"gpt2\")\n",
    "text = \"We'll also use a much smaller LLMs (4 layers, 4 heads, 128 embedding size), and decrease the number of iterations to 2000 (and correspondingly usually decay\"\n",
    "text = \"This will run for about 4 days using PyTorch Distributed Data Parallel (DDP) .\"\n",
    "encoding_res = enc.encode(text)\n",
    "print(encoding_res)\n",
    "encoding_res.reverse()\n",
    "raw_text = enc.decode(encoding_res)\n",
    "print(raw_text)"
   ]
  },
  {
   "cell_type": "code",
   "execution_count": null,
   "metadata": {},
   "outputs": [],
   "source": []
  }
 ],
 "metadata": {
  "kernelspec": {
   "display_name": "nano",
   "language": "python",
   "name": "python3"
  },
  "language_info": {
   "codemirror_mode": {
    "name": "ipython",
    "version": 3
   },
   "file_extension": ".py",
   "mimetype": "text/x-python",
   "name": "python",
   "nbconvert_exporter": "python",
   "pygments_lexer": "ipython3",
   "version": "3.8.19"
  }
 },
 "nbformat": 4,
 "nbformat_minor": 2
}
